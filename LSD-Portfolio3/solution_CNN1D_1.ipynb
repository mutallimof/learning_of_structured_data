{
  "cells": [
    {
      "cell_type": "markdown",
      "id": "b2bc242c",
      "metadata": {},
      "source": [
        "#### Learning of Structured Data - Portfolio  3\n",
        "---\n",
        "*Group 1* - CNN1D approach\n",
        "\n",
        "Contributor: Fikrat Mutallimov"
      ]
    },
    {
      "cell_type": "code",
      "execution_count": 2,
      "id": "219cfe94",
      "metadata": {
        "id": "219cfe94"
      },
      "outputs": [],
      "source": [
        "import pandas as pd\n",
        "import numpy as np\n",
        "import matplotlib.pyplot as plt\n",
        "import os\n",
        "import torch\n",
        "import torch.nn as nn\n",
        "import torch.optim as optim\n",
        "\n",
        "device = torch.device(\"cuda\" if torch.cuda.is_available() else \"cpu\")"
      ]
    },
    {
      "cell_type": "markdown",
      "id": "3f6c0e0d",
      "metadata": {
        "id": "3f6c0e0d"
      },
      "source": [
        "# Loading the dataset"
      ]
    },
    {
      "cell_type": "code",
      "execution_count": 1,
      "id": "bRGKgris_1nw",
      "metadata": {
        "colab": {
          "base_uri": "https://localhost:8080/"
        },
        "id": "bRGKgris_1nw",
        "outputId": "14e89ffb-8069-4c2d-fc8e-a7594d958d57"
      },
      "outputs": [
        {
          "name": "stdout",
          "output_type": "stream",
          "text": [
            "Mounted at /content/drive\n"
          ]
        }
      ],
      "source": [
        "from google.colab import drive\n",
        "drive.mount('/content/drive')"
      ]
    },
    {
      "cell_type": "code",
      "execution_count": 3,
      "id": "5570f950",
      "metadata": {
        "id": "5570f950"
      },
      "outputs": [],
      "source": [
        "to_use = [] # columns to be used. skip the confidence score. and angles\n",
        "for i in range(0,75,3):\n",
        "    to_use.append(i)\n",
        "    to_use.append(i+1)\n"
      ]
    },
    {
      "cell_type": "code",
      "execution_count": 4,
      "id": "84d2eac9",
      "metadata": {
        "colab": {
          "base_uri": "https://localhost:8080/"
        },
        "id": "84d2eac9",
        "outputId": "d98c5f73-f203-4211-d22f-35c9a19cca09"
      },
      "outputs": [
        {
          "data": {
            "text/plain": [
              "(1167, 1167)"
            ]
          },
          "execution_count": 4,
          "metadata": {},
          "output_type": "execute_result"
        }
      ],
      "source": [
        "data_list = []\n",
        "\n",
        "mapping = {\"boxing\" :0,\n",
        "\"drums\" : 1,\n",
        "\"guitar\" : 2,\n",
        "\"rowing\" : 3,\n",
        "\"violin\" :4}\n",
        "\n",
        "training_files =  os.listdir('/content/drive/MyDrive/dataset/train/train')\n",
        "\n",
        "for file in training_files:\n",
        "    d = pd.read_csv(f'/content/drive/MyDrive/dataset/train/train/{file}',usecols=to_use)\n",
        "    d = d.fillna(0)\n",
        "    data_list.append(d.to_numpy()[:int(len(d)/2)]) # remove half of datasets, 'cause they are repeating, but additionally they have angles and confidience score\n",
        "\n",
        "\n",
        "# labels\n",
        "labels = []\n",
        "for name in training_files:\n",
        "    lab = mapping[name[9:-4]]\n",
        "    labels.append(lab)\n",
        "\n",
        "len(data_list),len(labels)"
      ]
    },
    {
      "cell_type": "markdown",
      "id": "d39f187a",
      "metadata": {
        "id": "d39f187a"
      },
      "source": [
        "# Train test split"
      ]
    },
    {
      "cell_type": "code",
      "execution_count": 5,
      "id": "de49f747",
      "metadata": {
        "id": "de49f747"
      },
      "outputs": [],
      "source": [
        "from sklearn.model_selection import train_test_split\n",
        "\n",
        "X_train, X_test, y_train, y_test = train_test_split(data_list, labels, test_size=0.33, random_state=42)"
      ]
    },
    {
      "cell_type": "markdown",
      "id": "ff13ddde",
      "metadata": {
        "id": "ff13ddde"
      },
      "source": [
        "# Creating Windows"
      ]
    },
    {
      "cell_type": "code",
      "execution_count": 6,
      "id": "792dc5cc",
      "metadata": {
        "colab": {
          "base_uri": "https://localhost:8080/"
        },
        "id": "792dc5cc",
        "outputId": "29161b1c-e41c-4ae4-e5b9-0b1939c63592"
      },
      "outputs": [
        {
          "data": {
            "text/plain": [
              "(177032, 177032, 90162, 90162)"
            ]
          },
          "execution_count": 6,
          "metadata": {},
          "output_type": "execute_result"
        }
      ],
      "source": [
        "window_size = 50\n",
        "stride = 1\n",
        "\n",
        "#training\n",
        "tr_windows = []\n",
        "tr_window_labels = []\n",
        "\n",
        "\n",
        "for f,l in zip(X_train,y_train):\n",
        "    #print(f.shape)\n",
        "    for j in range(f.shape[0]-window_size):\n",
        "        tr_windows.append(f[j:j+50,:])\n",
        "        tr_window_labels.append(l)\n",
        "\n",
        "\n",
        "#validation\n",
        "te_windows = []\n",
        "te_window_labels = []\n",
        "\n",
        "\n",
        "for f,l in zip(X_test,y_test):\n",
        "    #print(f.shape)\n",
        "    for j in range(f.shape[0]-window_size):\n",
        "        te_windows.append(f[j:j+50,:])\n",
        "        te_window_labels.append(l)\n",
        "\n",
        "\n",
        "len(tr_windows),len(tr_window_labels),len(te_windows),len(te_window_labels)"
      ]
    },
    {
      "cell_type": "code",
      "execution_count": 7,
      "id": "bfa33504",
      "metadata": {
        "colab": {
          "base_uri": "https://localhost:8080/"
        },
        "id": "bfa33504",
        "outputId": "4c88a565-1d06-48be-f091-6f40389d4e71"
      },
      "outputs": [
        {
          "data": {
            "text/plain": [
              "(torch.Size([177032, 50, 50]),\n",
              " torch.Size([177032]),\n",
              " torch.Size([90162, 50, 50]),\n",
              " torch.Size([90162]))"
            ]
          },
          "execution_count": 7,
          "metadata": {},
          "output_type": "execute_result"
        }
      ],
      "source": [
        "tr_windows = torch.tensor(np.array(tr_windows)).permute(0,2,1)    # CNN1D input shape ----> N,C,L  C=75, L= window_size\n",
        "tr_window_labels = torch.tensor(np.array(tr_window_labels))\n",
        "\n",
        "te_windows = torch.tensor(np.array(te_windows)).permute(0,2,1)\n",
        "te_window_labels = torch.tensor(np.array(te_window_labels))\n",
        "\n",
        "\n",
        "tr_windows.shape,tr_window_labels.shape,te_windows.shape,te_window_labels.shape"
      ]
    },
    {
      "cell_type": "markdown",
      "id": "f82d597c",
      "metadata": {
        "id": "f82d597c"
      },
      "source": [
        "# CNN1D model"
      ]
    },
    {
      "cell_type": "code",
      "execution_count": 8,
      "id": "903391a1",
      "metadata": {
        "colab": {
          "base_uri": "https://localhost:8080/"
        },
        "id": "903391a1",
        "outputId": "7e832de4-796c-4c3e-e849-ad1ac8708081"
      },
      "outputs": [
        {
          "name": "stdout",
          "output_type": "stream",
          "text": [
            "SimpleCNN1DModel(\n",
            "  (model): Sequential(\n",
            "    (0): Conv1d(50, 16, kernel_size=(3,), stride=(1,), padding=(1,))\n",
            "    (1): ReLU()\n",
            "    (2): MaxPool1d(kernel_size=2, stride=2, padding=0, dilation=1, ceil_mode=False)\n",
            "    (3): Conv1d(16, 32, kernel_size=(3,), stride=(1,), padding=(1,))\n",
            "    (4): ReLU()\n",
            "    (5): MaxPool1d(kernel_size=2, stride=2, padding=0, dilation=1, ceil_mode=False)\n",
            "  )\n",
            "  (fc_layers): Sequential(\n",
            "    (0): Linear(in_features=384, out_features=64, bias=True)\n",
            "    (1): ReLU()\n",
            "    (2): Linear(in_features=64, out_features=5, bias=True)\n",
            "  )\n",
            ")\n"
          ]
        }
      ],
      "source": [
        "import torch\n",
        "import torch.nn as nn\n",
        "\n",
        "class SimpleCNN1DModel(nn.Module):\n",
        "    def __init__(self, num_channels, window_size):\n",
        "        super(SimpleCNN1DModel, self).__init__()\n",
        "\n",
        "        self.model = nn.Sequential(\n",
        "            nn.Conv1d(num_channels, 16, kernel_size=3, stride=1, padding=1),\n",
        "            nn.ReLU(),\n",
        "            nn.MaxPool1d(kernel_size=2, stride=2),\n",
        "            nn.Conv1d(16, 32, kernel_size=3, stride=1, padding=1),\n",
        "            nn.ReLU(),\n",
        "            nn.MaxPool1d(kernel_size=2, stride=2)\n",
        "        )\n",
        "\n",
        "        # Calculate the final size after two CNN layers and pooling\n",
        "        final_size = window_size // 2 // 2\n",
        "\n",
        "        self.fc_layers = nn.Sequential(\n",
        "            nn.Linear(32 * final_size, 64),\n",
        "            nn.ReLU(),\n",
        "            nn.Linear(64, 5)  # Assuming a regression task, change as needed\n",
        "        )\n",
        "\n",
        "    def forward(self, x):\n",
        "        x = self.model(x)\n",
        "\n",
        "        # Reshape for fully connected layer\n",
        "        x = x.view(x.size(0), -1)\n",
        "\n",
        "        x = self.fc_layers(x)\n",
        "        return x\n",
        "\n",
        "# Example instantiation with 50 channels and window size of 50\n",
        "num_channels = 50\n",
        "model = SimpleCNN1DModel(num_channels=num_channels, window_size=window_size)\n",
        "\n",
        "# Print the model architecture\n",
        "print(model)\n"
      ]
    },
    {
      "cell_type": "code",
      "execution_count": 9,
      "id": "0b5b4eb5",
      "metadata": {
        "id": "0b5b4eb5"
      },
      "outputs": [],
      "source": [
        "criterion = nn.CrossEntropyLoss()\n",
        "optimizer = optim.Adam(model.parameters(), lr=0.001)"
      ]
    },
    {
      "cell_type": "code",
      "execution_count": 11,
      "id": "af3e4cc8",
      "metadata": {
        "colab": {
          "base_uri": "https://localhost:8080/"
        },
        "id": "af3e4cc8",
        "outputId": "5fe6b076-6655-439f-bccc-acfd9d70d47a"
      },
      "outputs": [
        {
          "name": "stdout",
          "output_type": "stream",
          "text": [
            "0.04580713440399192\n",
            "0.04937008416071392\n",
            "0.05065946804624442\n",
            "0.050573745018678375\n",
            "0.05091667085278448\n",
            "0.051221745414176956\n",
            "0.051183364011081\n",
            "0.0515021737026315\n",
            "0.05180719617216019\n",
            "0.052394916191833424\n"
          ]
        }
      ],
      "source": [
        "l = []\n",
        "num_epochs = 10\n",
        "batch_size = 16\n",
        "for epoch in range(num_epochs):\n",
        "    model.train()\n",
        "    indexes = np.random.permutation(tr_windows.shape[0])\n",
        "    for i in range(0,indexes.shape[0],batch_size):\n",
        "        #print(i,indexes[i:i+batch_size])\n",
        "        inputs, lab = tr_windows[[indexes[i:i+batch_size]]].to(device), tr_window_labels[[indexes[i:i+batch_size]]].to(device)\n",
        "        #print(inputs.shape,labels)\n",
        "        optimizer.zero_grad()\n",
        "        outputs = model(inputs.float())\n",
        "        loss = criterion(outputs, lab.long())\n",
        "        loss.backward()\n",
        "        optimizer.step()\n",
        "        l.append(loss.item())\n",
        "    print(sum(l)/len(l))"
      ]
    },
    {
      "cell_type": "code",
      "execution_count": 12,
      "id": "05dc71d0",
      "metadata": {
        "colab": {
          "base_uri": "https://localhost:8080/",
          "height": 447
        },
        "id": "05dc71d0",
        "outputId": "51cb5969-566c-4154-e4cd-21d05e2247fb"
      },
      "outputs": [
        {
          "data": {
            "text/plain": [
              "[<matplotlib.lines.Line2D at 0x7b7fee7ceb90>]"
            ]
          },
          "execution_count": 12,
          "metadata": {},
          "output_type": "execute_result"
        },
        {
          "data": {
            "image/png": "[encoded data removed]",
            "text/plain": [
              "<Figure size 640x480 with 1 Axes>"
            ]
          },
          "metadata": {},
          "output_type": "display_data"
        }
      ],
      "source": [
        "plt.plot(l)"
      ]
    },
    {
      "cell_type": "markdown",
      "id": "e7f3d4ac",
      "metadata": {
        "id": "e7f3d4ac"
      },
      "source": [
        "# validation"
      ]
    },
    {
      "cell_type": "code",
      "execution_count": 13,
      "id": "cfafca93",
      "metadata": {
        "colab": {
          "base_uri": "https://localhost:8080/"
        },
        "id": "cfafca93",
        "outputId": "eb2e9d19-9bd8-44cd-de6b-d02e12dedaec"
      },
      "outputs": [
        {
          "name": "stdout",
          "output_type": "stream",
          "text": [
            " Validation Accuracy: 0.9783\n"
          ]
        }
      ],
      "source": [
        "model.eval()\n",
        "with torch.no_grad():\n",
        "    correct = 0\n",
        "    total = 0\n",
        "    for inputs, lab in zip(te_windows,te_window_labels):\n",
        "        inputs, lab = inputs.to(device), lab.to(device)\n",
        "        #print(lab)\n",
        "        outputs = model(inputs.reshape((1,50,50)).float())\n",
        "        _, predicted = torch.max(outputs.data, 1)\n",
        "        total +=   1\n",
        "        correct += (predicted == lab).sum().item()\n",
        "\n",
        "    accuracy = correct / total\n",
        "    print(f\" Validation Accuracy: {accuracy:.4f}\")\n"
      ]
    },
    {
      "cell_type": "markdown",
      "id": "2b3ef65a",
      "metadata": {
        "id": "2b3ef65a"
      },
      "source": [
        "# Kaggle predictions"
      ]
    },
    {
      "cell_type": "code",
      "execution_count": 14,
      "id": "9932e42c",
      "metadata": {
        "colab": {
          "base_uri": "https://localhost:8080/"
        },
        "id": "9932e42c",
        "outputId": "0f78d44e-46fe-4696-ebea-6cede6351b3f"
      },
      "outputs": [
        {
          "data": {
            "text/plain": [
              "[2,\n",
              " 0,\n",
              " 2,\n",
              " 1,\n",
              " 2,\n",
              " 4,\n",
              " 4,\n",
              " 0,\n",
              " 0,\n",
              " 2,\n",
              " 4,\n",
              " 4,\n",
              " 1,\n",
              " 0,\n",
              " 0,\n",
              " 4,\n",
              " 0,\n",
              " 0,\n",
              " 4,\n",
              " 3,\n",
              " 2,\n",
              " 3,\n",
              " 1,\n",
              " 0,\n",
              " 0,\n",
              " 4,\n",
              " 0,\n",
              " 3,\n",
              " 4,\n",
              " 4,\n",
              " 4,\n",
              " 2,\n",
              " 4,\n",
              " 3,\n",
              " 3,\n",
              " 4,\n",
              " 0,\n",
              " 3,\n",
              " 3,\n",
              " 4,\n",
              " 2,\n",
              " 4,\n",
              " 0,\n",
              " 3,\n",
              " 3,\n",
              " 0,\n",
              " 4,\n",
              " 0,\n",
              " 4,\n",
              " 4,\n",
              " 3,\n",
              " 3,\n",
              " 0,\n",
              " 0,\n",
              " 1,\n",
              " 3,\n",
              " 4,\n",
              " 4,\n",
              " 2,\n",
              " 3,\n",
              " 4,\n",
              " 4,\n",
              " 1,\n",
              " 1,\n",
              " 0,\n",
              " 1,\n",
              " 1,\n",
              " 0,\n",
              " 3,\n",
              " 0,\n",
              " 3,\n",
              " 4,\n",
              " 3,\n",
              " 1,\n",
              " 0,\n",
              " 4,\n",
              " 1,\n",
              " 4,\n",
              " 0,\n",
              " 1,\n",
              " 2,\n",
              " 3,\n",
              " 1,\n",
              " 3,\n",
              " 2,\n",
              " 0,\n",
              " 1,\n",
              " 0,\n",
              " 1,\n",
              " 4,\n",
              " 0,\n",
              " 1,\n",
              " 0,\n",
              " 0,\n",
              " 4,\n",
              " 1,\n",
              " 3,\n",
              " 3,\n",
              " 0,\n",
              " 4,\n",
              " 2,\n",
              " 3,\n",
              " 3,\n",
              " 0,\n",
              " 0,\n",
              " 4,\n",
              " 3,\n",
              " 1,\n",
              " 0,\n",
              " 1,\n",
              " 0,\n",
              " 3,\n",
              " 4,\n",
              " 2,\n",
              " 1,\n",
              " 3,\n",
              " 4,\n",
              " 3,\n",
              " 1,\n",
              " 0,\n",
              " 4,\n",
              " 0,\n",
              " 3,\n",
              " 0,\n",
              " 4,\n",
              " 3,\n",
              " 1,\n",
              " 0,\n",
              " 3,\n",
              " 4,\n",
              " 2,\n",
              " 4,\n",
              " 1,\n",
              " 1,\n",
              " 2,\n",
              " 4,\n",
              " 3,\n",
              " 4,\n",
              " 0,\n",
              " 4,\n",
              " 2,\n",
              " 1,\n",
              " 0,\n",
              " 2,\n",
              " 0,\n",
              " 0,\n",
              " 3,\n",
              " 4,\n",
              " 4,\n",
              " 4,\n",
              " 4,\n",
              " 3,\n",
              " 3,\n",
              " 4,\n",
              " 1,\n",
              " 0,\n",
              " 0,\n",
              " 2,\n",
              " 1,\n",
              " 2,\n",
              " 1,\n",
              " 4,\n",
              " 3,\n",
              " 4,\n",
              " 2,\n",
              " 2,\n",
              " 4,\n",
              " 4,\n",
              " 4,\n",
              " 1,\n",
              " 3,\n",
              " 0,\n",
              " 1,\n",
              " 3,\n",
              " 2,\n",
              " 2,\n",
              " 3,\n",
              " 3,\n",
              " 3,\n",
              " 0,\n",
              " 1,\n",
              " 4,\n",
              " 2,\n",
              " 3,\n",
              " 4,\n",
              " 0,\n",
              " 1,\n",
              " 0,\n",
              " 0,\n",
              " 2,\n",
              " 0,\n",
              " 1,\n",
              " 0,\n",
              " 2,\n",
              " 0,\n",
              " 3,\n",
              " 2,\n",
              " 4,\n",
              " 4,\n",
              " 4,\n",
              " 4,\n",
              " 4,\n",
              " 4,\n",
              " 1,\n",
              " 4,\n",
              " 1,\n",
              " 2,\n",
              " 1,\n",
              " 0,\n",
              " 4,\n",
              " 4,\n",
              " 1,\n",
              " 4,\n",
              " 1,\n",
              " 2,\n",
              " 3,\n",
              " 0,\n",
              " 0,\n",
              " 0,\n",
              " 2,\n",
              " 1,\n",
              " 3,\n",
              " 0,\n",
              " 1,\n",
              " 0,\n",
              " 4,\n",
              " 2,\n",
              " 0,\n",
              " 0,\n",
              " 3,\n",
              " 3,\n",
              " 4,\n",
              " 0,\n",
              " 0,\n",
              " 0,\n",
              " 0,\n",
              " 4,\n",
              " 4,\n",
              " 3,\n",
              " 1,\n",
              " 4,\n",
              " 4,\n",
              " 2,\n",
              " 3,\n",
              " 1,\n",
              " 4,\n",
              " 0,\n",
              " 0,\n",
              " 0,\n",
              " 2,\n",
              " 3,\n",
              " 1,\n",
              " 1,\n",
              " 4,\n",
              " 0,\n",
              " 4,\n",
              " 0,\n",
              " 0,\n",
              " 1,\n",
              " 3,\n",
              " 0,\n",
              " 2,\n",
              " 1,\n",
              " 3,\n",
              " 0,\n",
              " 0,\n",
              " 0,\n",
              " 1,\n",
              " 1,\n",
              " 1,\n",
              " 4,\n",
              " 1,\n",
              " 3,\n",
              " 4,\n",
              " 3,\n",
              " 3,\n",
              " 1,\n",
              " 3,\n",
              " 3,\n",
              " 1,\n",
              " 2,\n",
              " 0,\n",
              " 3,\n",
              " 1,\n",
              " 1,\n",
              " 4,\n",
              " 3,\n",
              " 1,\n",
              " 3,\n",
              " 3,\n",
              " 0,\n",
              " 1,\n",
              " 1,\n",
              " 2,\n",
              " 3,\n",
              " 1,\n",
              " 1,\n",
              " 4,\n",
              " 3,\n",
              " 1,\n",
              " 1,\n",
              " 4,\n",
              " 2,\n",
              " 2,\n",
              " 2]"
            ]
          },
          "execution_count": 14,
          "metadata": {},
          "output_type": "execute_result"
        }
      ],
      "source": [
        "n = 305\n",
        "stride=window_size\n",
        "pred = []\n",
        "for i in range(n):\n",
        "    clab = []\n",
        "    file = pd.read_csv(f'/content/drive/MyDrive/dataset/test/test/{i}.csv',usecols=to_use).fillna(0).to_numpy()\n",
        "    for j in range(0,file.shape[0]-window_size,stride):\n",
        "        inp = torch.tensor(file[j:j+50]).unsqueeze(0).permute(0,2,1)\n",
        "        #print(inp.shape)\n",
        "        out = torch.argmax(model(inp.float()))\n",
        "        clab.append(out.item())\n",
        "    unique, counts = np.unique(clab, return_counts=True)\n",
        "    fpred = unique[counts.argmax()]\n",
        "    pred.append(fpred)\n",
        "pred"
      ]
    },
    {
      "cell_type": "code",
      "execution_count": 15,
      "id": "a27fee73",
      "metadata": {
        "id": "a27fee73"
      },
      "outputs": [],
      "source": [
        "dic = {'id':range(305),'action':pred}\n",
        "df = pd.DataFrame(dic)\n",
        "df.to_csv('pred.csv',index=False)"
      ]
    },
    {
      "cell_type": "code",
      "execution_count": 47,
      "id": "0XrRgUsKzcxT",
      "metadata": {
        "id": "0XrRgUsKzcxT"
      },
      "outputs": [],
      "source": []
    }
  ],
  "metadata": {
    "colab": {
      "provenance": []
    },
    "kernelspec": {
      "display_name": "Python 3 (ipykernel)",
      "language": "python",
      "name": "python3"
    },
    "language_info": {
      "codemirror_mode": {
        "name": "ipython",
        "version": 3
      },
      "file_extension": ".py",
      "mimetype": "text/x-python",
      "name": "python",
      "nbconvert_exporter": "python",
      "pygments_lexer": "ipython3",
      "version": "3.10.9"
    }
  },
  "nbformat": 4,
  "nbformat_minor": 5
}
